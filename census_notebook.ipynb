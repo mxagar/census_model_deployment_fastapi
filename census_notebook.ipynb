{
 "cells": [
  {
   "cell_type": "markdown",
   "id": "73a1cde8-b475-43cf-b280-e80e1628d956",
   "metadata": {},
   "source": [
    "# Census Model Deployment to Heroku Using FastAPI"
   ]
  },
  {
   "cell_type": "markdown",
   "id": "5e9d49d2-26a3-4947-ac86-cfe44af6b828",
   "metadata": {},
   "source": [
    "In this project, a simple census dataset is used to create a model pipeline, train it and deploy it to Heroku using FastAPI. The dataset consists of 32,561 entries of different people, each with 14 features (age, education, etc.) and the model infers the salary range of an entry. See the colocated [`README.md`](README.md) for more information.\n",
    "\n",
    "This notebook is a playground where different data processing and modeling techniques are tested.\n",
    "\n",
    "You can open this notebook on Google Colab, However, note that you need to upload the dataset to run the notebook there.\n",
    "\n",
    "[![Open In Colab](https://colab.research.google.com/assets/colab-badge.svg)](https://colab.research.google.com/github/mxagar/census_model_deployment_fastapi/blob/master/census_notebook.ipynb)\n",
    "\n",
    "Table of contents:\n",
    "\n",
    "- [1. Load and Explore Dataset](#1.-Load-and-Explore-Dataset)\n",
    "- [2. Data Processing Pipeline](#2.-Data-Processing-Pipeline)\n",
    "- [3. Model Definition and Training](#3.-Model-Definition-and-Training)\n",
    "- [4. Model Evaluation](#4.-Model-Evaluation)\n",
    "- [5. Extra Tests](#5.-Extra-Tests)"
   ]
  },
  {
   "cell_type": "markdown",
   "id": "fb13a76b-9b5b-4197-9685-0aebdfa92bdc",
   "metadata": {},
   "source": [
    "## 1. Load and Explore Dataset"
   ]
  },
  {
   "cell_type": "code",
   "execution_count": 1,
   "id": "4696f9a9-af19-4775-977c-e599584e85d0",
   "metadata": {},
   "outputs": [],
   "source": [
    "import itertools\n",
    "import pickle\n",
    "import pandas as pd\n",
    "import numpy as np\n",
    "import matplotlib.pyplot as plt"
   ]
  },
  {
   "cell_type": "code",
   "execution_count": 2,
   "id": "30b6c565-7e99-4157-8643-4a7e2b77130d",
   "metadata": {},
   "outputs": [],
   "source": [
    "df = pd.read_csv('./data/census.csv')"
   ]
  },
  {
   "cell_type": "code",
   "execution_count": 3,
   "id": "41cd50e3-6b4c-41d6-a617-5aeb7cb7b89b",
   "metadata": {},
   "outputs": [
    {
     "data": {
      "text/html": [
       "<div>\n",
       "<style scoped>\n",
       "    .dataframe tbody tr th:only-of-type {\n",
       "        vertical-align: middle;\n",
       "    }\n",
       "\n",
       "    .dataframe tbody tr th {\n",
       "        vertical-align: top;\n",
       "    }\n",
       "\n",
       "    .dataframe thead th {\n",
       "        text-align: right;\n",
       "    }\n",
       "</style>\n",
       "<table border=\"1\" class=\"dataframe\">\n",
       "  <thead>\n",
       "    <tr style=\"text-align: right;\">\n",
       "      <th></th>\n",
       "      <th>age</th>\n",
       "      <th>workclass</th>\n",
       "      <th>fnlgt</th>\n",
       "      <th>education</th>\n",
       "      <th>education-num</th>\n",
       "      <th>marital-status</th>\n",
       "      <th>occupation</th>\n",
       "      <th>relationship</th>\n",
       "      <th>race</th>\n",
       "      <th>sex</th>\n",
       "      <th>capital-gain</th>\n",
       "      <th>capital-loss</th>\n",
       "      <th>hours-per-week</th>\n",
       "      <th>native-country</th>\n",
       "      <th>salary</th>\n",
       "    </tr>\n",
       "  </thead>\n",
       "  <tbody>\n",
       "    <tr>\n",
       "      <th>0</th>\n",
       "      <td>39</td>\n",
       "      <td>State-gov</td>\n",
       "      <td>77516</td>\n",
       "      <td>Bachelors</td>\n",
       "      <td>13</td>\n",
       "      <td>Never-married</td>\n",
       "      <td>Adm-clerical</td>\n",
       "      <td>Not-in-family</td>\n",
       "      <td>White</td>\n",
       "      <td>Male</td>\n",
       "      <td>2174</td>\n",
       "      <td>0</td>\n",
       "      <td>40</td>\n",
       "      <td>United-States</td>\n",
       "      <td>&lt;=50K</td>\n",
       "    </tr>\n",
       "    <tr>\n",
       "      <th>1</th>\n",
       "      <td>50</td>\n",
       "      <td>Self-emp-not-inc</td>\n",
       "      <td>83311</td>\n",
       "      <td>Bachelors</td>\n",
       "      <td>13</td>\n",
       "      <td>Married-civ-spouse</td>\n",
       "      <td>Exec-managerial</td>\n",
       "      <td>Husband</td>\n",
       "      <td>White</td>\n",
       "      <td>Male</td>\n",
       "      <td>0</td>\n",
       "      <td>0</td>\n",
       "      <td>13</td>\n",
       "      <td>United-States</td>\n",
       "      <td>&lt;=50K</td>\n",
       "    </tr>\n",
       "    <tr>\n",
       "      <th>2</th>\n",
       "      <td>38</td>\n",
       "      <td>Private</td>\n",
       "      <td>215646</td>\n",
       "      <td>HS-grad</td>\n",
       "      <td>9</td>\n",
       "      <td>Divorced</td>\n",
       "      <td>Handlers-cleaners</td>\n",
       "      <td>Not-in-family</td>\n",
       "      <td>White</td>\n",
       "      <td>Male</td>\n",
       "      <td>0</td>\n",
       "      <td>0</td>\n",
       "      <td>40</td>\n",
       "      <td>United-States</td>\n",
       "      <td>&lt;=50K</td>\n",
       "    </tr>\n",
       "    <tr>\n",
       "      <th>3</th>\n",
       "      <td>53</td>\n",
       "      <td>Private</td>\n",
       "      <td>234721</td>\n",
       "      <td>11th</td>\n",
       "      <td>7</td>\n",
       "      <td>Married-civ-spouse</td>\n",
       "      <td>Handlers-cleaners</td>\n",
       "      <td>Husband</td>\n",
       "      <td>Black</td>\n",
       "      <td>Male</td>\n",
       "      <td>0</td>\n",
       "      <td>0</td>\n",
       "      <td>40</td>\n",
       "      <td>United-States</td>\n",
       "      <td>&lt;=50K</td>\n",
       "    </tr>\n",
       "    <tr>\n",
       "      <th>4</th>\n",
       "      <td>28</td>\n",
       "      <td>Private</td>\n",
       "      <td>338409</td>\n",
       "      <td>Bachelors</td>\n",
       "      <td>13</td>\n",
       "      <td>Married-civ-spouse</td>\n",
       "      <td>Prof-specialty</td>\n",
       "      <td>Wife</td>\n",
       "      <td>Black</td>\n",
       "      <td>Female</td>\n",
       "      <td>0</td>\n",
       "      <td>0</td>\n",
       "      <td>40</td>\n",
       "      <td>Cuba</td>\n",
       "      <td>&lt;=50K</td>\n",
       "    </tr>\n",
       "  </tbody>\n",
       "</table>\n",
       "</div>"
      ],
      "text/plain": [
       "   age          workclass   fnlgt   education   education-num  \\\n",
       "0   39          State-gov   77516   Bachelors              13   \n",
       "1   50   Self-emp-not-inc   83311   Bachelors              13   \n",
       "2   38            Private  215646     HS-grad               9   \n",
       "3   53            Private  234721        11th               7   \n",
       "4   28            Private  338409   Bachelors              13   \n",
       "\n",
       "        marital-status          occupation    relationship    race      sex  \\\n",
       "0        Never-married        Adm-clerical   Not-in-family   White     Male   \n",
       "1   Married-civ-spouse     Exec-managerial         Husband   White     Male   \n",
       "2             Divorced   Handlers-cleaners   Not-in-family   White     Male   \n",
       "3   Married-civ-spouse   Handlers-cleaners         Husband   Black     Male   \n",
       "4   Married-civ-spouse      Prof-specialty            Wife   Black   Female   \n",
       "\n",
       "    capital-gain   capital-loss   hours-per-week  native-country  salary  \n",
       "0           2174              0               40   United-States   <=50K  \n",
       "1              0              0               13   United-States   <=50K  \n",
       "2              0              0               40   United-States   <=50K  \n",
       "3              0              0               40   United-States   <=50K  \n",
       "4              0              0               40            Cuba   <=50K  "
      ]
     },
     "execution_count": 3,
     "metadata": {},
     "output_type": "execute_result"
    }
   ],
   "source": [
    "df.head()"
   ]
  },
  {
   "cell_type": "code",
   "execution_count": 4,
   "id": "40593869-d50c-465e-81e2-b4f7448c0277",
   "metadata": {},
   "outputs": [
    {
     "name": "stdout",
     "output_type": "stream",
     "text": [
      "<class 'pandas.core.frame.DataFrame'>\n",
      "RangeIndex: 32561 entries, 0 to 32560\n",
      "Data columns (total 15 columns):\n",
      " #   Column           Non-Null Count  Dtype \n",
      "---  ------           --------------  ----- \n",
      " 0   age              32561 non-null  int64 \n",
      " 1    workclass       32561 non-null  object\n",
      " 2    fnlgt           32561 non-null  int64 \n",
      " 3    education       32561 non-null  object\n",
      " 4    education-num   32561 non-null  int64 \n",
      " 5    marital-status  32561 non-null  object\n",
      " 6    occupation      32561 non-null  object\n",
      " 7    relationship    32561 non-null  object\n",
      " 8    race            32561 non-null  object\n",
      " 9    sex             32561 non-null  object\n",
      " 10   capital-gain    32561 non-null  int64 \n",
      " 11   capital-loss    32561 non-null  int64 \n",
      " 12   hours-per-week  32561 non-null  int64 \n",
      " 13   native-country  32561 non-null  object\n",
      " 14   salary          32561 non-null  object\n",
      "dtypes: int64(6), object(9)\n",
      "memory usage: 3.7+ MB\n"
     ]
    }
   ],
   "source": [
    "# No missing values\n",
    "# We just need to\n",
    "# - encode categoricals\n",
    "# - binarize label/target\n",
    "# - scale numericals\n",
    "df.info()"
   ]
  },
  {
   "cell_type": "code",
   "execution_count": 5,
   "id": "18ed8832-4acd-400a-be9c-8dd51f94acc3",
   "metadata": {},
   "outputs": [
    {
     "data": {
      "text/html": [
       "<div>\n",
       "<style scoped>\n",
       "    .dataframe tbody tr th:only-of-type {\n",
       "        vertical-align: middle;\n",
       "    }\n",
       "\n",
       "    .dataframe tbody tr th {\n",
       "        vertical-align: top;\n",
       "    }\n",
       "\n",
       "    .dataframe thead th {\n",
       "        text-align: right;\n",
       "    }\n",
       "</style>\n",
       "<table border=\"1\" class=\"dataframe\">\n",
       "  <thead>\n",
       "    <tr style=\"text-align: right;\">\n",
       "      <th></th>\n",
       "      <th>age</th>\n",
       "      <th>fnlgt</th>\n",
       "      <th>education-num</th>\n",
       "      <th>capital-gain</th>\n",
       "      <th>capital-loss</th>\n",
       "      <th>hours-per-week</th>\n",
       "    </tr>\n",
       "  </thead>\n",
       "  <tbody>\n",
       "    <tr>\n",
       "      <th>count</th>\n",
       "      <td>32561.000000</td>\n",
       "      <td>3.256100e+04</td>\n",
       "      <td>32561.000000</td>\n",
       "      <td>32561.000000</td>\n",
       "      <td>32561.000000</td>\n",
       "      <td>32561.000000</td>\n",
       "    </tr>\n",
       "    <tr>\n",
       "      <th>mean</th>\n",
       "      <td>38.581647</td>\n",
       "      <td>1.897784e+05</td>\n",
       "      <td>10.080679</td>\n",
       "      <td>1077.648844</td>\n",
       "      <td>87.303830</td>\n",
       "      <td>40.437456</td>\n",
       "    </tr>\n",
       "    <tr>\n",
       "      <th>std</th>\n",
       "      <td>13.640433</td>\n",
       "      <td>1.055500e+05</td>\n",
       "      <td>2.572720</td>\n",
       "      <td>7385.292085</td>\n",
       "      <td>402.960219</td>\n",
       "      <td>12.347429</td>\n",
       "    </tr>\n",
       "    <tr>\n",
       "      <th>min</th>\n",
       "      <td>17.000000</td>\n",
       "      <td>1.228500e+04</td>\n",
       "      <td>1.000000</td>\n",
       "      <td>0.000000</td>\n",
       "      <td>0.000000</td>\n",
       "      <td>1.000000</td>\n",
       "    </tr>\n",
       "    <tr>\n",
       "      <th>25%</th>\n",
       "      <td>28.000000</td>\n",
       "      <td>1.178270e+05</td>\n",
       "      <td>9.000000</td>\n",
       "      <td>0.000000</td>\n",
       "      <td>0.000000</td>\n",
       "      <td>40.000000</td>\n",
       "    </tr>\n",
       "    <tr>\n",
       "      <th>50%</th>\n",
       "      <td>37.000000</td>\n",
       "      <td>1.783560e+05</td>\n",
       "      <td>10.000000</td>\n",
       "      <td>0.000000</td>\n",
       "      <td>0.000000</td>\n",
       "      <td>40.000000</td>\n",
       "    </tr>\n",
       "    <tr>\n",
       "      <th>75%</th>\n",
       "      <td>48.000000</td>\n",
       "      <td>2.370510e+05</td>\n",
       "      <td>12.000000</td>\n",
       "      <td>0.000000</td>\n",
       "      <td>0.000000</td>\n",
       "      <td>45.000000</td>\n",
       "    </tr>\n",
       "    <tr>\n",
       "      <th>max</th>\n",
       "      <td>90.000000</td>\n",
       "      <td>1.484705e+06</td>\n",
       "      <td>16.000000</td>\n",
       "      <td>99999.000000</td>\n",
       "      <td>4356.000000</td>\n",
       "      <td>99.000000</td>\n",
       "    </tr>\n",
       "  </tbody>\n",
       "</table>\n",
       "</div>"
      ],
      "text/plain": [
       "                age         fnlgt   education-num   capital-gain  \\\n",
       "count  32561.000000  3.256100e+04    32561.000000   32561.000000   \n",
       "mean      38.581647  1.897784e+05       10.080679    1077.648844   \n",
       "std       13.640433  1.055500e+05        2.572720    7385.292085   \n",
       "min       17.000000  1.228500e+04        1.000000       0.000000   \n",
       "25%       28.000000  1.178270e+05        9.000000       0.000000   \n",
       "50%       37.000000  1.783560e+05       10.000000       0.000000   \n",
       "75%       48.000000  2.370510e+05       12.000000       0.000000   \n",
       "max       90.000000  1.484705e+06       16.000000   99999.000000   \n",
       "\n",
       "        capital-loss   hours-per-week  \n",
       "count   32561.000000     32561.000000  \n",
       "mean       87.303830        40.437456  \n",
       "std       402.960219        12.347429  \n",
       "min         0.000000         1.000000  \n",
       "25%         0.000000        40.000000  \n",
       "50%         0.000000        40.000000  \n",
       "75%         0.000000        45.000000  \n",
       "max      4356.000000        99.000000  "
      ]
     },
     "execution_count": 5,
     "metadata": {},
     "output_type": "execute_result"
    }
   ],
   "source": [
    "df.describe()"
   ]
  },
  {
   "cell_type": "code",
   "execution_count": 6,
   "id": "9e0fbde3-aa16-414c-9941-230ad710e70a",
   "metadata": {},
   "outputs": [
    {
     "data": {
      "text/plain": [
       "Index(['age', ' workclass', ' fnlgt', ' education', ' education-num',\n",
       "       ' marital-status', ' occupation', ' relationship', ' race', ' sex',\n",
       "       ' capital-gain', ' capital-loss', ' hours-per-week', ' native-country',\n",
       "       ' salary'],\n",
       "      dtype='object')"
      ]
     },
     "execution_count": 6,
     "metadata": {},
     "output_type": "execute_result"
    }
   ],
   "source": [
    "# Column names have spaces?\n",
    "df.columns"
   ]
  },
  {
   "cell_type": "code",
   "execution_count": 7,
   "id": "7c2ee2e3-df9c-48e6-8983-f2c93eba8e63",
   "metadata": {},
   "outputs": [],
   "source": [
    "# IMPORTANT: We need to do that in production, too!\n",
    "df = df.rename(columns={col_name: col_name.replace(' ', '') for col_name in df.columns})"
   ]
  },
  {
   "cell_type": "code",
   "execution_count": 8,
   "id": "0118ec52-5425-4037-9bc8-fa97380ef000",
   "metadata": {},
   "outputs": [
    {
     "data": {
      "text/plain": [
       "Index(['age', 'workclass', 'fnlgt', 'education', 'education-num',\n",
       "       'marital-status', 'occupation', 'relationship', 'race', 'sex',\n",
       "       'capital-gain', 'capital-loss', 'hours-per-week', 'native-country',\n",
       "       'salary'],\n",
       "      dtype='object')"
      ]
     },
     "execution_count": 8,
     "metadata": {},
     "output_type": "execute_result"
    }
   ],
   "source": [
    "# Column names don't have spaces now\n",
    "df.columns"
   ]
  },
  {
   "cell_type": "code",
   "execution_count": 9,
   "id": "78563004-c17c-447a-b9f3-5f259f0942b3",
   "metadata": {},
   "outputs": [],
   "source": [
    "# Drop duplicates\n",
    "# IMPORTANT: We need to do that in production, too!\n",
    "df = df.drop_duplicates().reset_index(drop=True)"
   ]
  },
  {
   "cell_type": "code",
   "execution_count": 10,
   "id": "6a48f113-ce08-4b93-a2b6-94bf250c9c37",
   "metadata": {},
   "outputs": [
    {
     "data": {
      "text/plain": [
       "(32537, 15)"
      ]
     },
     "execution_count": 10,
     "metadata": {},
     "output_type": "execute_result"
    }
   ],
   "source": [
    "# Some duplicates are removed!\n",
    "# 32561 -> 32537\n",
    "df.shape"
   ]
  },
  {
   "cell_type": "code",
   "execution_count": 11,
   "id": "52856f58-2621-4b59-bf93-a721947443c2",
   "metadata": {},
   "outputs": [
    {
     "data": {
      "text/plain": [
       " <=50K    24698\n",
       " >50K      7839\n",
       "Name: salary, dtype: int64"
      ]
     },
     "execution_count": 11,
     "metadata": {},
     "output_type": "execute_result"
    }
   ],
   "source": [
    "# The targets are not balanced\n",
    "df.salary.value_counts()"
   ]
  },
  {
   "cell_type": "markdown",
   "id": "d87449c0-3c0e-4aca-a699-5d2d154f1dcf",
   "metadata": {},
   "source": [
    "## 2. Data Processing Pipeline"
   ]
  },
  {
   "cell_type": "code",
   "execution_count": 12,
   "id": "27580f2c-08db-49f8-bf22-d7c9c023f793",
   "metadata": {},
   "outputs": [],
   "source": [
    "target = \"salary\"\n",
    "categorical_features = list(df.drop(target, axis=1).select_dtypes(include = ['object']))\n",
    "numerical_features = list(df.select_dtypes(include = ['float', 'int']))"
   ]
  },
  {
   "cell_type": "code",
   "execution_count": 13,
   "id": "a1b34f83-625e-4d5b-a9fc-b803cb30b15e",
   "metadata": {},
   "outputs": [
    {
     "data": {
      "text/plain": [
       "['workclass',\n",
       " 'education',\n",
       " 'marital-status',\n",
       " 'occupation',\n",
       " 'relationship',\n",
       " 'race',\n",
       " 'sex',\n",
       " 'native-country']"
      ]
     },
     "execution_count": 13,
     "metadata": {},
     "output_type": "execute_result"
    }
   ],
   "source": [
    "categorical_features"
   ]
  },
  {
   "cell_type": "code",
   "execution_count": 14,
   "id": "ecff37fc-372e-4128-9ca3-9c7f186a61e9",
   "metadata": {},
   "outputs": [
    {
     "data": {
      "text/plain": [
       "['age',\n",
       " 'fnlgt',\n",
       " 'education-num',\n",
       " 'capital-gain',\n",
       " 'capital-loss',\n",
       " 'hours-per-week']"
      ]
     },
     "execution_count": 14,
     "metadata": {},
     "output_type": "execute_result"
    }
   ],
   "source": [
    "numerical_features"
   ]
  },
  {
   "cell_type": "code",
   "execution_count": 15,
   "id": "05f61c8d-dbc6-4d00-92f8-4516c5edda85",
   "metadata": {},
   "outputs": [
    {
     "data": {
      "text/plain": [
       "14"
      ]
     },
     "execution_count": 15,
     "metadata": {},
     "output_type": "execute_result"
    }
   ],
   "source": [
    "len(categorical_features)+len(numerical_features)"
   ]
  },
  {
   "cell_type": "code",
   "execution_count": 16,
   "id": "5b2eb000-cee2-4763-8177-20e66eae8f2c",
   "metadata": {},
   "outputs": [],
   "source": [
    "# Import all necessary tools\n",
    "from sklearn.model_selection import train_test_split\n",
    "from sklearn.impute import SimpleImputer\n",
    "from sklearn.preprocessing import OneHotEncoder, StandardScaler, LabelBinarizer\n",
    "from sklearn.pipeline import Pipeline, make_pipeline\n",
    "from sklearn.compose import ColumnTransformer"
   ]
  },
  {
   "cell_type": "code",
   "execution_count": 17,
   "id": "6deedcdf-9300-4f1e-86ae-2a6affba60f0",
   "metadata": {},
   "outputs": [],
   "source": [
    "# Define processing for categorical columns\n",
    "# handle_unknown: label encoders need to be able to deal with unknown labesl!\n",
    "categorical_transformer = make_pipeline(\n",
    "    SimpleImputer(strategy=\"constant\", fill_value=0),\n",
    "    OneHotEncoder(sparse_output=False, handle_unknown=\"ignore\")\n",
    ")"
   ]
  },
  {
   "cell_type": "code",
   "execution_count": 18,
   "id": "26f3983d-af72-4e67-83d1-eaa9bcc62453",
   "metadata": {},
   "outputs": [],
   "source": [
    "# Define processing for numerical columns\n",
    "numerical_transformer = make_pipeline(\n",
    "    SimpleImputer(strategy=\"median\"),\n",
    "    StandardScaler()\n",
    ")"
   ]
  },
  {
   "cell_type": "code",
   "execution_count": 19,
   "id": "a04a10b3-83be-4b6c-a19e-cfc0d3c295b7",
   "metadata": {},
   "outputs": [],
   "source": [
    "# Put the 2 tracks together into one pipeline using the ColumnTransformer\n",
    "# This also drops the columns that we are not explicitly transforming\n",
    "feature_processor = ColumnTransformer(\n",
    "    transformers=[\n",
    "        (\"num\", numerical_transformer, numerical_features),\n",
    "        (\"cat\", categorical_transformer, categorical_features),\n",
    "    ],\n",
    "    remainder=\"drop\",  # This drops the columns that we do not transform\n",
    ")"
   ]
  },
  {
   "cell_type": "code",
   "execution_count": 20,
   "id": "e98fba03-6133-41f4-ae74-236c7eb7fbd4",
   "metadata": {},
   "outputs": [],
   "source": [
    "# Get a list of the columns we used\n",
    "features = list(itertools.chain.from_iterable([x[2] for x in feature_processor.transformers]))"
   ]
  },
  {
   "cell_type": "code",
   "execution_count": 21,
   "id": "e4e9ddf4-3d83-4b32-868a-4bd20c13a127",
   "metadata": {},
   "outputs": [
    {
     "data": {
      "text/plain": [
       "14"
      ]
     },
     "execution_count": 21,
     "metadata": {},
     "output_type": "execute_result"
    }
   ],
   "source": [
    "len(features)"
   ]
  },
  {
   "cell_type": "code",
   "execution_count": 22,
   "id": "dbbd6fd9-2817-4c24-81b9-e00ce5136a8d",
   "metadata": {},
   "outputs": [],
   "source": [
    "X = df[features]\n",
    "y = df[target]"
   ]
  },
  {
   "cell_type": "code",
   "execution_count": 23,
   "id": "2c01c954-d2be-4b45-9156-1d7c9fab7371",
   "metadata": {},
   "outputs": [],
   "source": [
    "X_train, X_test, y_train, y_test = train_test_split(\n",
    "    X, # predictive variables\n",
    "    y, # target\n",
    "    test_size=0.2, # portion of dataset to allocate to test set\n",
    "    random_state=42, # we are setting the seed here, ALWAYS DO IT!\n",
    "    stratify=y # if we want to keep class ratios in splits\n",
    ")"
   ]
  },
  {
   "cell_type": "code",
   "execution_count": 24,
   "id": "1f58ca19-71e3-421b-8a80-4a7fe81f2cc5",
   "metadata": {},
   "outputs": [],
   "source": [
    "X_train_transformed = feature_processor.fit_transform(X_train)"
   ]
  },
  {
   "cell_type": "code",
   "execution_count": 25,
   "id": "2ba06351-2bee-4b26-bb2a-3fdd191932a6",
   "metadata": {},
   "outputs": [],
   "source": [
    "target_processor = LabelBinarizer()\n",
    "y_train_transformed = target_processor.fit_transform(y_train).ravel()"
   ]
  },
  {
   "cell_type": "code",
   "execution_count": 26,
   "id": "70f93c69-81a3-4721-b72b-6714d0631757",
   "metadata": {},
   "outputs": [],
   "source": [
    "# Save processors and additional data\n",
    "processing_parameters = dict()\n",
    "processing_parameters['features'] = features\n",
    "processing_parameters['target'] = target\n",
    "processing_parameters['categorical_features'] = categorical_features\n",
    "processing_parameters['numerical_features'] = numerical_features\n",
    "processing_parameters['feature_processor'] = feature_processor\n",
    "processing_parameters['target_processor'] = target_processor\n",
    "\n",
    "pickle.dump(processing_parameters, open('artifacts/processing_parameters.pickle','wb')) # wb: write bytes\n",
    "processing_parameters = pickle.load(open('artifacts/processing_parameters.pickle','rb')) # rb: read bytes\n",
    "\n",
    "# Load again (test)\n",
    "features = processing_parameters['features']\n",
    "target = processing_parameters['target']\n",
    "categorical_features = processing_parameters['categorical_features']\n",
    "numerical_features = processing_parameters['numerical_features']\n",
    "feature_processor = processing_parameters['feature_processor']\n",
    "target_processor = processing_parameters['target_processor']"
   ]
  },
  {
   "cell_type": "markdown",
   "id": "5ca831eb-7c27-4534-987c-e2c42ec3393b",
   "metadata": {},
   "source": [
    "## 3. Model Definition and Training"
   ]
  },
  {
   "cell_type": "code",
   "execution_count": 27,
   "id": "3a443577-ab46-4893-b41f-47381e501d18",
   "metadata": {},
   "outputs": [],
   "source": [
    "from sklearn.ensemble import RandomForestClassifier\n",
    "from sklearn.model_selection import GridSearchCV"
   ]
  },
  {
   "cell_type": "code",
   "execution_count": 28,
   "id": "0255fe53-f943-440f-bd47-5f4039e95ef9",
   "metadata": {},
   "outputs": [],
   "source": [
    "# Random forest classifier\n",
    "estimator = RandomForestClassifier(random_state=42)\n",
    "\n",
    "# Define Grid Search: parameters to try, cross-validation size\n",
    "param_grid = {\n",
    "    'n_estimators': [100, 150, 200],\n",
    "    'max_features': ['sqrt', 'log2'],\n",
    "    'criterion': ['gini', 'entropy'],\n",
    "    'max_depth': [None]+[n for n in range(5,20,5)]\n",
    "}\n",
    "\n",
    "# Grid search\n",
    "search = GridSearchCV(estimator=estimator,\n",
    "                      param_grid=param_grid,\n",
    "                      cv=3,\n",
    "                      scoring='roc_auc')\n",
    "\n",
    "# Find best hyperparameters and best estimator pipeline\n",
    "search.fit(X_train_transformed, y_train_transformed)\n",
    "rfc = search.best_estimator_"
   ]
  },
  {
   "cell_type": "code",
   "execution_count": 29,
   "id": "c0c1f340-7f22-4ac3-afb0-10a2e8d05a0b",
   "metadata": {},
   "outputs": [
    {
     "name": "stdout",
     "output_type": "stream",
     "text": [
      "0.9139884699718301\n",
      "{'criterion': 'gini', 'max_depth': 15, 'max_features': 'sqrt', 'n_estimators': 200}\n"
     ]
    }
   ],
   "source": [
    "print(search.best_score_)\n",
    "print(search.best_params_)"
   ]
  },
  {
   "cell_type": "code",
   "execution_count": 30,
   "id": "462938ce-da42-4fad-a642-693d918db860",
   "metadata": {},
   "outputs": [],
   "source": [
    "# Save model\n",
    "pickle.dump(rfc, open('artifacts/model.pickle','wb')) # wb: write bytes\n",
    "# Load again (test)\n",
    "rfc = pickle.load(open('artifacts/model.pickle','rb')) # rb: read bytes"
   ]
  },
  {
   "cell_type": "markdown",
   "id": "80b6feb6-2240-4c7f-b436-a6db13b9dec6",
   "metadata": {},
   "source": [
    "## 4. Model Evaluation"
   ]
  },
  {
   "cell_type": "code",
   "execution_count": 31,
   "id": "16d7ee8e-e098-4afe-98e9-ee41d6bc750a",
   "metadata": {},
   "outputs": [],
   "source": [
    "from sklearn.metrics import fbeta_score, precision_score, recall_score, roc_auc_score"
   ]
  },
  {
   "cell_type": "code",
   "execution_count": 32,
   "id": "94b5f73f-5614-48bc-9bac-b0d0f7c97e79",
   "metadata": {},
   "outputs": [],
   "source": [
    "X_test_transformed = feature_processor.transform(X_test)\n",
    "y_test_transformed = target_processor.transform(y_test).ravel()"
   ]
  },
  {
   "cell_type": "code",
   "execution_count": 33,
   "id": "73682a28-32f2-43c3-bdee-38d57bd8f119",
   "metadata": {},
   "outputs": [],
   "source": [
    "preds = rfc.predict(X_test_transformed)\n",
    "probs = rfc.predict_proba(X_test_transformed)[:, 1]"
   ]
  },
  {
   "cell_type": "code",
   "execution_count": 34,
   "id": "287619d5-acb4-4a4b-b418-27dace2334e4",
   "metadata": {},
   "outputs": [],
   "source": [
    "fbeta = fbeta_score(y_test_transformed, preds, beta=1, zero_division=1)\n",
    "precision = precision_score(y_test_transformed, preds, zero_division=1)\n",
    "recall = recall_score(y_test_transformed, preds, zero_division=1)\n",
    "roc_auc = roc_auc_score(y_test_transformed, probs)"
   ]
  },
  {
   "cell_type": "code",
   "execution_count": 35,
   "id": "7f9f0a9a-03a4-4e19-bc15-9dbf3cf9dcea",
   "metadata": {},
   "outputs": [
    {
     "name": "stdout",
     "output_type": "stream",
     "text": [
      "fbeta = 0.6847110460863205\n",
      "precision = 0.8027444253859348\n",
      "recall = 0.5969387755102041\n",
      "roc_auc = 0.920798949640585\n"
     ]
    }
   ],
   "source": [
    "print(f\"fbeta = {fbeta}\")\n",
    "print(f\"precision = {precision}\")\n",
    "print(f\"recall = {recall}\")\n",
    "print(f\"roc_auc = {roc_auc}\")"
   ]
  },
  {
   "cell_type": "markdown",
   "id": "deb7fec5-d5b1-48ac-bd12-ec0ab63eb91a",
   "metadata": {},
   "source": [
    "## 5. Extra Tests"
   ]
  },
  {
   "cell_type": "code",
   "execution_count": 36,
   "id": "97a3862f-03d7-4845-ad89-97bef069254f",
   "metadata": {},
   "outputs": [],
   "source": [
    "import yaml"
   ]
  },
  {
   "cell_type": "code",
   "execution_count": 37,
   "id": "067a3b77-6c9e-4880-9be7-d50d6c8459a4",
   "metadata": {},
   "outputs": [
    {
     "name": "stdout",
     "output_type": "stream",
     "text": [
      "{'data_path': './data/census.csv', 'test_size': 0.2, 'random_seed': 42, 'target': 'salary', 'features': {'numerical': ['age', 'fnlgt', 'education_num', 'capital_gain', 'capital_loss', 'hours_per_week'], 'categorical': ['workclass', 'education', 'marital_status', 'occupation', 'relationship', 'race', 'sex', 'native_country']}, 'random_forest_parameters': {'n_estimators': 100, 'criterion': 'gini', 'max_depth': 13, 'min_samples_split': 2, 'min_samples_leaf': 1, 'min_weight_fraction_leaf': 0.0, 'max_features': 'auto', 'max_leaf_nodes': None, 'min_impurity_decrease': 0.0, 'bootstrap': True, 'oob_score': False, 'n_jobs': None, 'random_state': 42, 'verbose': 0, 'warm_start': False, 'class_weight': 'balanced', 'ccp_alpha': 0.0, 'max_samples': None}, 'random_forest_grid_search': {'hyperparameters': {'n_estimators': [100, 150, 200], 'max_features': ['sqrt', 'log2'], 'criterion': ['gini', 'entropy'], 'max_depth': [5, 10, 15]}, 'cv': 3, 'scoring': 'roc_auc'}, 'model_artifact': './exported_artifacts/model.pickle', 'processing_artifact': './exported_artifacts/processing_parameters.pickle', 'evaluation_artifact': './exported_artifacts/evaluation_report.txt'}\n"
     ]
    }
   ],
   "source": [
    "config = dict()\n",
    "with open('config.yaml') as f:\n",
    "    config = yaml.safe_load(f)\n",
    "print(config)"
   ]
  },
  {
   "cell_type": "code",
   "execution_count": 40,
   "id": "9c8b9c7b-8644-4af6-abb4-bd25d31862b4",
   "metadata": {},
   "outputs": [
    {
     "name": "stdout",
     "output_type": "stream",
     "text": [
      "Processing /Users/mxagar/nexo/git_repositories/census_model_deployment_fastapi\n",
      "  Preparing metadata (setup.py) ... \u001b[?25ldone\n",
      "\u001b[?25hBuilding wheels for collected packages: census-salary\n",
      "  Building wheel for census-salary (setup.py) ... \u001b[?25ldone\n",
      "\u001b[?25h  Created wheel for census-salary: filename=census_salary-0.1.0-py3-none-any.whl size=6144 sha256=ee81f050bb3ee7d0544dbd919aa21d9bfc72b8003e9d425afae054416a833fe5\n",
      "  Stored in directory: /private/var/folders/06/wdqtkk796gjfxfq9063zphx40000gn/T/pip-ephem-wheel-cache-e20dcnvd/wheels/8a/3a/7d/c496210767a1dc8b82ed069ba03ced1af4ea2f3cfc458ea059\n",
      "Successfully built census-salary\n",
      "Installing collected packages: census-salary\n",
      "  Attempting uninstall: census-salary\n",
      "    Found existing installation: census-salary 0.1.0\n",
      "    Uninstalling census-salary-0.1.0:\n",
      "      Successfully uninstalled census-salary-0.1.0\n",
      "Successfully installed census-salary-0.1.0\n"
     ]
    }
   ],
   "source": [
    "# Install created library/package\n",
    "!pip install --upgrade ."
   ]
  },
  {
   "cell_type": "code",
   "execution_count": 41,
   "id": "a3c6b3cf-e248-41df-a46d-186e3741ff29",
   "metadata": {},
   "outputs": [
    {
     "name": "stdout",
     "output_type": "stream",
     "text": [
      "TRAINING\n",
      "Running setup...\n",
      "Running data processing...\n",
      "Running model fit...\n",
      "Persisting pipeline: model + processing...\n",
      "Running evaluation with test split...\n",
      "Training successfully finished! Check exported artifacts.\n",
      "\n",
      "Test scores: \n",
      "{'precision': 0.5711906744379683, 'recall': 0.875, 'fbeta': 0.691183879093199, 'roc_auc': 0.918021681091465}\n",
      "Loading pipeline: model + processing parameters + config...\n",
      "Prediction: \n",
      "[' <=50K' ' >50K' ' <=50K' ' <=50K' ' >50K' ' >50K' ' <=50K' ' >50K'\n",
      " ' >50K' ' >50K' ' >50K' ' >50K' ' <=50K' ' <=50K' ' >50K' ' <=50K'\n",
      " ' <=50K' ' <=50K' ' <=50K' ' >50K' ' >50K' ' <=50K' ' <=50K' ' <=50K'\n",
      " ' <=50K' ' >50K' ' <=50K' ' >50K' ' <=50K' ' >50K' ' <=50K' ' <=50K'\n",
      " ' <=50K' ' <=50K' ' <=50K' ' <=50K' ' <=50K' ' <=50K' ' >50K' ' >50K'\n",
      " ' <=50K' ' >50K' ' >50K' ' <=50K' ' <=50K' ' >50K' ' >50K' ' <=50K'\n",
      " ' >50K' ' <=50K' ' <=50K' ' <=50K' ' >50K' ' >50K' ' <=50K' ' >50K'\n",
      " ' <=50K' ' <=50K' ' >50K' ' <=50K' ' >50K' ' <=50K' ' >50K' ' >50K'\n",
      " ' <=50K' ' >50K' ' <=50K' ' >50K' ' >50K' ' <=50K' ' <=50K' ' <=50K'\n",
      " ' >50K' ' <=50K' ' <=50K' ' <=50K' ' >50K' ' <=50K' ' <=50K' ' <=50K'\n",
      " ' <=50K' ' <=50K' ' <=50K' ' >50K' ' >50K' ' <=50K' ' >50K' ' >50K'\n",
      " ' <=50K' ' >50K' ' >50K' ' <=50K' ' <=50K' ' <=50K' ' >50K' ' <=50K'\n",
      " ' >50K' ' >50K' ' <=50K' ' <=50K']\n"
     ]
    }
   ],
   "source": [
    "# Run usage example\n",
    "import pandas as pd\n",
    "import census_salary as cs\n",
    "\n",
    "# Train, is not trained yet\n",
    "model, processing_parameters, config, test_scores = cs.train_pipeline(config_filename='config.yaml')\n",
    "print(\"Test scores: \")\n",
    "print(test_scores)\n",
    "\n",
    "# Load pipeline, if training performed in another execution/session\n",
    "model, processing_parameters, config = cs.load_pipeline(config_filename='config.yaml')\n",
    "\n",
    "# Get and check the data\n",
    "df = pd.read_csv('./data/census.csv') # original training dataset: features & target\n",
    "df, _ = cs.validate_data(df=df) # columns renamed, duplicates dropped, etc.\n",
    "X = df.drop(\"salary\", axis=1) # optional\n",
    "X = X.iloc[:100, :] # we take a sample\n",
    "\n",
    "# Predict salary (values already decoded)\n",
    "pred = cs.predict(X, model, processing_parameters)\n",
    "print(\"Prediction: \")\n",
    "print(pred)\n"
   ]
  },
  {
   "cell_type": "code",
   "execution_count": null,
   "id": "cbcc4bb0-2247-4f48-a289-0f13b739b36b",
   "metadata": {},
   "outputs": [],
   "source": []
  }
 ],
 "metadata": {
  "kernelspec": {
   "display_name": "Python 3 (ipykernel)",
   "language": "python",
   "name": "python3"
  },
  "language_info": {
   "codemirror_mode": {
    "name": "ipython",
    "version": 3
   },
   "file_extension": ".py",
   "mimetype": "text/x-python",
   "name": "python",
   "nbconvert_exporter": "python",
   "pygments_lexer": "ipython3",
   "version": "3.8.15"
  }
 },
 "nbformat": 4,
 "nbformat_minor": 5
}
